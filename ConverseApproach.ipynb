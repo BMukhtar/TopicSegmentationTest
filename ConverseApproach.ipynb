{
 "cells": [
  {
   "cell_type": "code",
   "execution_count": 1,
   "outputs": [],
   "source": [
    "# Uncomment below line if this library is missing\n",
    "# !python -m spacy download en_core_web_sm"
   ],
   "metadata": {
    "collapsed": false
   }
  },
  {
   "cell_type": "code",
   "execution_count": 2,
   "outputs": [
    {
     "name": "stderr",
     "output_type": "stream",
     "text": [
      "[nltk_data] Downloading package stopwords to\n",
      "[nltk_data]     /Users/akvelon/nltk_data...\n",
      "[nltk_data]   Package stopwords is already up-to-date!\n"
     ]
    }
   ],
   "source": [
    "import attr\n",
    "import numpy as np\n",
    "import pandas as pd\n",
    "import spacy\n",
    "import nltk\n",
    "from nltk.tokenize.texttiling import TextTilingTokenizer\n",
    "from sentence_transformers import SentenceTransformer\n",
    "from sklearn.metrics.pairwise import cosine_similarity\n",
    "\n",
    "\n",
    "def load_sentence_transformer(model_name='all-MiniLM-L6-v2'):\n",
    "    model = SentenceTransformer(model_name)\n",
    "    return model\n",
    "\n",
    "\n",
    "def load_spacy():\n",
    "    return spacy.load('en_core_web_sm')\n",
    "\n",
    "model = load_sentence_transformer()\n",
    "nlp = load_spacy()\n",
    "nltk.download('stopwords')\n",
    "\n",
    "input_df = pd.read_csv('./data/train_ami.csv')\n",
    "label_df = pd.read_csv('./data/test_ami.csv')\n",
    "input_df = input_df[input_df['meeting_id'] < 1] # for performance test only first meeting\n",
    "label_df = label_df[label_df['meeting_id'] < 1] # for performance test only first meeting"
   ],
   "metadata": {
    "collapsed": false
   }
  },
  {
   "cell_type": "code",
   "execution_count": 3,
   "outputs": [],
   "source": [
    "\n",
    "@attr.s\n",
    "class SemanticTextSegmentation:\n",
    "\n",
    "    \"\"\"\n",
    "    Segment a call transcript based on topics discussed in the call using\n",
    "    TextTilling with Sentence Similarity via sentence transformer.\n",
    "\n",
    "    Paramters\n",
    "    ---------\n",
    "    data: pd.Dataframe\n",
    "        Pass the trascript in the dataframe format\n",
    "\n",
    "    utterance: str\n",
    "        pass the column name which represent utterance in transcript dataframe\n",
    "\n",
    "    \"\"\"\n",
    "\n",
    "    data = attr.ib()\n",
    "    utterance = attr.ib(default='utterance')\n",
    "\n",
    "    def __attrs_post_init__(self):\n",
    "        columns = self.data.columns.tolist()\n",
    "\n",
    "    def get_segments_ind(self, threshold=0.7):\n",
    "        segments = self._text_tilling()\n",
    "        merge_index = self._merge_segments(segments, threshold)\n",
    "        return merge_index\n",
    "\n",
    "    def get_segments(self, threshold=0.7):\n",
    "        \"\"\"\n",
    "        returns the transcript segments computed with texttiling and sentence-transformer.\n",
    "\n",
    "        Paramters\n",
    "        ---------\n",
    "        threshold: float\n",
    "            sentence similarity threshold. (used to merge the sentences into coherant segments)\n",
    "\n",
    "        Return\n",
    "        ------\n",
    "        new_segments: list\n",
    "            list of segments\n",
    "        \"\"\"\n",
    "        segments = self._text_tilling()\n",
    "        merge_index = self._index_mapping(self._merge_segments(segments, threshold))\n",
    "        new_segments = []\n",
    "        for i in merge_index:\n",
    "            seg = ' '.join([segments[_] for _ in i])\n",
    "            new_segments.append(seg)\n",
    "        return new_segments\n",
    "\n",
    "    def _merge_segments(self, segments, threshold):\n",
    "        segment_map = [0]\n",
    "        sims = []\n",
    "        for index, (text1, text2) in enumerate(zip(segments[:-1], segments[1:])):\n",
    "            sim = self._get_similarity(text1, text2)\n",
    "            sims.append(sim)\n",
    "\n",
    "        # threshold = np.mean(sims) - 3 * np.var(sims)\n",
    "        for sim in sims:\n",
    "            if sim >= threshold:\n",
    "                segment_map.append(0)\n",
    "            else:\n",
    "                segment_map.append(1)\n",
    "        return segment_map\n",
    "\n",
    "    def _index_mapping(self, segment_map):\n",
    "        index_list = []\n",
    "        temp = []\n",
    "        for index, i in enumerate(segment_map):\n",
    "            if i == 1:\n",
    "                index_list.append(temp)\n",
    "                temp = [index]\n",
    "            else:\n",
    "                temp.append(index)\n",
    "        index_list.append(temp)\n",
    "        return index_list\n",
    "\n",
    "    def _get_similarity(self, text1, text2):\n",
    "        sentence_1 = [i.text.strip()\n",
    "                      for i in nlp(text1).sents if len(i.text.split(' ')) > 1]\n",
    "        sentence_2 = [i.text.strip()\n",
    "                      for i in nlp(text2).sents if len(i.text.split(' ')) > 2]\n",
    "        embeding_1 = model.encode(sentence_1)\n",
    "        embeding_2 = model.encode(sentence_2)\n",
    "        embeding_1 = np.mean(embeding_1, axis=0).reshape(1, -1)\n",
    "        embeding_2 = np.mean(embeding_2, axis=0).reshape(1, -1)\n",
    "\n",
    "        if np.any(np.isnan(embeding_1)) or np.any(np.isnan(embeding_2)):\n",
    "            return 1\n",
    "\n",
    "        sim = cosine_similarity(embeding_1, embeding_2)\n",
    "        return sim\n",
    "\n",
    "    def _text_tilling(self):\n",
    "        tt = TextTilingTokenizer(w=15, k=10)\n",
    "        text = '\\n\\n\\t'.join(self.data[self.utterance].tolist())\n",
    "        segment = tt.tokenize(text)\n",
    "        segment = [i.replace(\"\\n\\n\\t\", ' ') for i in segment]\n",
    "        return segment\n",
    "\n",
    "\n",
    "\n",
    "# segmenter = SemanticTextSegmentation(input_df, 'caption')\n",
    "# binary = segmenter.get_segments_ind(threshold=0.5)"
   ],
   "metadata": {
    "collapsed": false
   }
  },
  {
   "cell_type": "code",
   "execution_count": 4,
   "outputs": [
    {
     "name": "stdout",
     "output_type": "stream",
     "text": [
      "Here we go . Welcome everybody . Um , I'm Abigail Claflin . You can call me Abbie . 'S see . PowerPoint , that's not it . There we go . So this is our kick off meeting . Um and I guess we should all get acquainted {vocalsound} . {vocalsound} Let's {disfmarker} shall we all introduce ourselves ? Hi I'm Chiara , I'm the um Marketing Expert . Um , would you like me to talk about my aims at the moment , or would you like me to just say my name and then we can talk about business later ?  I think we'll get around to that , yeah . So this is just introductions yeah . We'll get round to that later . My name is Chiara and I'm the Marketing Expert . Okay . I forgot to s say I'm the Project Manager but I figured you all knew that already , {vocalsound} {vocalsound} {vocalsound} um so . {vocalsound} I'm Stephanie and I am the User Interface Designer .  I'm Krista and I'm the Industrial Designer . Okay . Um so f here's our agenda for today . Um we're gonna do some tool training , project plan and discuss then close . {vocalsound} Um so . So our aim is to produce a remote control that is original , trendy and user friendly . And to do this , we have to {disfmarker} um there's certain things we have to consider about functional aspects and conceptual design of the thing . So . We'll get to that . Oh there it is . Right . Functional design , conceptual design and detailed design . So throughout our next couple of meetings we'll we'll be covering these things . Um {vocalsound} so we're gonna try out our white board . If we'll all draw our favourite animal , to sum up the characteristics of that animal . Okay .  So you want us to draw it and then talk about it ? Or just draw it ? {vocalsound} I think both . {vocalsound}  Yeah . Both . Yeah {vocalsound} . Okay . Why don't we do both . Right . Who starts ? We ought to decide who starts and {vocalsound} all that . No ? Any volunteers ? Uh-huh . Does anyone know what they wanna draw ? {vocalsound} {vocalsound} Mm , I gotta think about it for a second like . Uh {disfmarker} Does it have to be {vocalsound} functional , trendy and user friendly ? {vocalsound} {vocalsound} I don't think so . {vocalsound} Um . Okay , I'll draw . I'll draw one . {gap} Make sure {gap} my things here . Uh-oh . Right . Okay , my favourite animal is {disfmarker} see . {vocalsound} Oops .  A dolphin . Yeah , it's {vocalsound} {disfmarker} {vocalsound} {vocalsound} 'S like playing Pictionary . {vocalsound} Yeah , I guess it has a fin on top too , yeah . {vocalsound} It's my dolphin . {vocalsound} So what characteristics do you like about your animal ? {vocalsound} {vocalsound} I like its tail . {vocalsound} {vocalsound} Um , no , I think dolphins are really uh {disfmarker} I dunno , they're smart and they they're cute and they like swimming and that's cool , like {disfmarker}  {vocalsound} They're graceful . they're graceful yeah , and they're so {disfmarker} Sleek {vocalsound} . {vocalsound} Yeah they're sleek {vocalsound} and they look intelligent and I don't know , they're {disfmarker} I guess it's the whole like binocular vision thing .  I don't know how intelligent that one looks {vocalsound} . {vocalsound} Yeah he he doesn't look that smart {vocalsound} . He's a {disfmarker} {vocalsound} I dunno um they're {disfmarker} I think it's cool the the um {vocalsound} the interaction that or the th things that {disfmarker} the reasons people seem to like you know {disfmarker} you get ex you know people are sitting on the beach and p they're like oh look there's dolphins and it's kinda like {vocalsound} {disfmarker} but they're you know they jump around in the water and they're happy and they're mammals , but they swim . {gap} {vocalsound} Yes . {vocalsound} Does anybody else wanna draw their animal ? Suppose I can draw an animal , yeah .  {vocalsound} {vocalsound} . {vocalsound} Uh-oh there goes the ten . {vocalsound} Yeah . {vocalsound} It's a cat . {vocalsound} {vocalsound} I don't know . They sleep all day , {vocalsound} they're easy to draw {vocalsound} . {vocalsound} Do you wanna {gap} anything ? Uh yeah . I dunno if the the {disfmarker} I think the pen is running out of {disfmarker} Well I had the cat as well , but uh I've got a spare one . ah . {vocalsound} {vocalsound} So I'll use the spare one . Um but it's harder to draw {gap} um . And the pen's dying {vocalsound} . Um . A horse . Horse . Uh . Um I don't {vocalsound} really know how the legs go ,\n",
      "\n",
      "<-- Topic Change -->\n",
      "\n",
      " {vocalsound} That's very good . {vocalsound} but anyway I will do that . Um , and the main reason is they're pretty . I think they're very pretty and they go well with the environment , and I like the way they run and I used to do horse riding and they're just very sort of sturdy and nice animals . And I like the way um they feel , sort of under under the hand , I think that's pretty much it . Um {disfmarker}\n",
      "\n",
      "<-- Topic Change -->\n",
      "\n",
      " {gap} Yeah . This cord's {disfmarker} {gap} Uh . Right . Actually I haven't thought of anything yet {vocalsound} . Uh {disfmarker} It's a pig . {vocalsound} {vocalsound} {vocalsound} So I'm thinking we should design a remote control that's water resistant , strong and furry . What do you think , yeah ? This is {disfmarker} And furry . yeah , well like a cat , you know , soft yeah . {vocalsound} Textile {disfmarker} tactile , {vocalsound} tactile remote control . {vocalsound} {vocalsound} Although {disfmarker} uh I'll just put there . Right . You're dragging a {disfmarker} you have a tail {vocalsound} .  {gap} Oh my gosh , this is disastrous . Sorry about that . {vocalsound} Okay . {vocalsound} So moving on . Our selling price goal is twenty five Euro and profit aim is fifty million Euro . So I'm guessing that we're not actually in Scotland , we're in some European country {vocalsound} . Um , and we will hope to sell this internationally .  Sorry can you just say that {disfmarker} what's the {disfmarker} what are our price goals again ? Um selling price is twenty five Euro . Profit aim fifty million Euro . Okay . How many should we sell then ? {vocalsound} Um , a lot , Anyone a mathematician ? {vocalsound} two two two million , {gap} two mi no , more f four million .  Two million . Four million . And it {disfmarker} {vocalsound} well it's the profit so if a profit for each is twelve fifty , that'll do four million .\n",
      "\n",
      "<-- Topic Change -->\n",
      "\n",
      " Oh , yeah . {vocalsound} It is a lot . Uh . So f that's a fifty percent um uh . Um , I don't know what these mean because I didn't actually make the slide-show . Experience with remote control . So I guess we have to reflect on our experiences with remote controls to decide what um we would like to see in a convenient , practical , nice remote control . Um so do we have any initial ideas for uh how this remote control should be designed or formatted or the the buttons it should have .\n",
      "\n",
      "<-- Topic Change -->\n",
      "\n",
      " Um , I think one thing is that it should be easy to find {vocalsound} I was thinking that too . bec yeah {vocalsound} bec Yeah . I think we should design something that has like a {disfmarker} so you can {disfmarker} like somehow like you {disfmarker} I mean you always know where your T_V_ is , so just have a call button , {vocalsound} I've always wanted that , Yeah . so like {vocalsound} you can push a button on your T_V_ {disfmarker} Yeah , yeah yeah yeah yeah . I mean you have it for the portable phone , so why not {disfmarker} yeah . Yeah , yeah yeah yeah , so you should have a call button on your television to be able to find your remote control .  Yeah . And even I think a little light . Um or even a {disfmarker} maybe a vib a vibrating thing . I dunno but someth because it's usually under the sofa . {vocalsound} Yeah . Yeah . In which case you're going to be l but if it has a sort of signal which isn't any sound {disfmarker}  Yeah . I don't know if it's expensive maybe to {disfmarker} I don't {disfmarker} yeah I mean it {disfmarker} but like I mean {disfmarker} Maybe call is enough . But yeah . just I mean like your phone even just has so {disfmarker} like it can vibrate , it can light up and make noise and I dunno {vocalsound} Yeah yeah yeah . Yeah . What if it had something like um just like a magnet on the back of it and you could {disfmarker} I mean j just to have some place to put it besides like a base . You know like a portable phone has a base ,  Yeah . Yeah , or if it had a {disfmarker} yeah . like just to have a home for it . {vocalsound} Yeah yeah yeah yeah . Yeah , {vocalsound} 'Cause people just stick it on top of their T_V_ , but the point of having a remote is not to have to walk over to the T_V_ , so {disfmarker} I mean {disfmarker} {vocalsound} Well that's why it's always in the couch . Yeah . Yeah {vocalsound} .  Yeah , in in the couch {vocalsound} . {vocalsound} {gap} I dunno , it seems like though that that would be hard , 'cause you not you're not gonna be lazy anyway and {disfmarker} Yeah . Maybe we should design couches that have the remote control in the side arm . {vocalsound} {vocalsound} {vocalsound} Yeah so we {disfmarker} {vocalsound} the project is now couches and remote controls .  {vocalsound} But even just a thing to attach it to the w you know if you had a thing , a pretty object attached to the wall . But that would really make it more expensive . Yeah . But it's only a plastic thing , r really , the thing on the wall . Yeah . Yeah . Something like that . Do you think it needs to be bigger to not lose , or does that not factor in ? And the other thing is {disfmarker}  Bigger . Not {disfmarker} well it needs to be sort of {disfmarker} Like Hand hand held size , yeah . Hand-sized . Yeah . I don't think you need a {disfmarker} Not not huge , but {vocalsound} {vocalsound} But definitely not {disfmarker} well I don't know . It can't be that hard to put some kind of a noise on it .  No , it can't be , uh-uh . No it really wouldn't be . Huh . Or like or like a light thing . You know . I dunno {vocalsound} {vocalsound} {vocalsound} Like spaceship . . Yeah {vocalsound} . Or make it mobile so it runs around and comes come find you yeah {vocalsound} . {vocalsound} {vocalsound} {vocalsound} That would be really {disfmarker} I'm sure we could do that for twenty five Euros a pop .  Little homing device . {vocalsound} {vocalsound} Um . {vocalsound} {vocalsound} Yeah {vocalsound} . Uh . Okay . So what do we think this remote control should {disfmarker} Five minutes . Oh dear . Till the meeting {disfmarker} oh right . This is what we have left . Um , oh we just {gap}\n"
     ]
    }
   ],
   "source": [
    "# segments = segmenter.get_segments(threshold=0.5)\n",
    "# print('\\n\\n<-- Topic Change -->\\n\\n'.join(segments[:5]))"
   ],
   "metadata": {
    "collapsed": false
   }
  },
  {
   "cell_type": "code",
   "execution_count": 5,
   "outputs": [],
   "source": [
    "import pandas as pd\n",
    "import re\n",
    "\n",
    "\n",
    "def vvt_to_df(file_path):\n",
    "    with open(file_path, 'r') as f:\n",
    "        data = f.read()\n",
    "    meeting_id = file_path  # assuming meeting ID is in the file name and just an integer\n",
    "    utterances = re.findall(r'(\\d+:\\d+.\\d+).+?(\\d+:\\d+.\\d+)\\n(.*?)\\n\\n', data, re.DOTALL)\n",
    "    result = []\n",
    "    utterance_id = 1\n",
    "    for utterance in utterances:\n",
    "        st, en, caption = utterance\n",
    "        st_sec = sum(x * float(t) for x, t in zip([3600, 60, 1], st.split(':')))\n",
    "        en_sec = sum(x * float(t) for x, t in zip([3600, 60, 1], en.split(':')))\n",
    "        result.append(\n",
    "            {'meeting_id': meeting_id, 'st': st_sec, 'en': en_sec, 'caption': caption, 'speaker': utterance_id})\n",
    "        utterance_id += 1\n",
    "    return pd.DataFrame(result)"
   ],
   "metadata": {
    "collapsed": false
   }
  },
  {
   "cell_type": "code",
   "execution_count": 7,
   "outputs": [
    {
     "name": "stdout",
     "output_type": "stream",
     "text": [
      "                     meeting_id     st      en  \\\n",
      "0  ./data/episode_001_large.vtt    0.0   252.0   \n",
      "1  ./data/episode_001_large.vtt  252.0   396.0   \n",
      "2  ./data/episode_001_large.vtt  396.0   520.8   \n",
      "3  ./data/episode_001_large.vtt  520.8   715.2   \n",
      "4  ./data/episode_001_large.vtt  715.2  1017.6   \n",
      "\n",
      "                                             caption  speaker  \n",
      "0   As part of MIT course 6S099, Artificial Gener...        1  \n",
      "1   I've gotten the chance to sit down with Max T...        2  \n",
      "2                     He is a professor here at MIT.        3  \n",
      "3   He's a physicist, spent a large part of his c...        4  \n",
      "4   studying the mysteries of our cosmological un...        5  \n"
     ]
    }
   ],
   "source": [
    "file_path = './data/episode_001_large.vtt'\n",
    "df = vvt_to_df(file_path)\n",
    "print(df.head())"
   ],
   "metadata": {
    "collapsed": false
   }
  },
  {
   "cell_type": "code",
   "execution_count": 9,
   "outputs": [
    {
     "name": "stdout",
     "output_type": "stream",
     "text": [
      " As part of MIT course 6S099, Artificial General Intelligence,  I've gotten the chance to sit down with Max Tegmark.  He is a professor here at MIT.  He's a physicist, spent a large part of his career  studying the mysteries of our cosmological universe.  But he's also studied and delved into the beneficial  possibilities and the existential risks  of artificial intelligence.  Amongst many other things, he is the cofounder  of the Future of Life Institute, author of two books,  both of which I highly recommend.  First, Our Mathematical Universe.  Second is Life 3.0.  He's truly an out of the box thinker and a fun personality,  so I really enjoy talking to him.  If you'd like to see more of these videos in the future,  please subscribe and also click the little bell icon  to make sure you don't miss any videos.  Also, Twitter, LinkedIn, agi.mit.edu  if you wanna watch other lectures  or conversations like this one.  Better yet, go read Max's book, Life 3.0.  Chapter seven on goals is my favorite.  It's really where philosophy and engineering come together  and it opens with a quote by Dostoevsky.\n",
      "\n",
      "<-- Topic Change -->\n",
      "\n",
      "  The mystery of human existence lies not in just staying alive  but in finding something to live for.  Lastly, I believe that every failure rewards us  with an opportunity to learn  and in that sense, I've been very fortunate  to fail in so many new and exciting ways  and this conversation was no different.  I've learned about something called\n",
      "\n",
      "<-- Topic Change -->\n",
      "\n",
      "  radio frequency interference, RFI, look it up.  Apparently, music and conversations  from local radio stations can bleed into the audio  that you're recording in such a way  that it almost completely ruins that audio.  It's an exceptionally difficult sound source to remove.  So, I've gotten the opportunity to learn  how to avoid RFI in the future during recording sessions.  I've also gotten the opportunity to learn  how to use Adobe Audition and iZotope RX 6  to do some noise, some audio repair.  Of course, this is an exceptionally difficult noise  to remove.  I am an engineer.  I'm not an audio engineer.  Neither is anybody else in our group  but we did our best.  Nevertheless, I thank you for your patience\n",
      "\n",
      "<-- Topic Change -->\n",
      "\n",
      "  and I hope you're still able to enjoy this conversation.  Do you think there's intelligent life  out there in the universe?  Let's open up with an easy question.  I have a minority view here actually.  When I give public lectures, I often ask for a show of hands  who thinks there's intelligent life out there somewhere else  and almost everyone put their hands up  and when I ask why, they'll be like,  oh, there's so many galaxies out there, there's gotta be.\n",
      "\n",
      "<-- Topic Change -->\n",
      "\n",
      "  But I'm a numbers nerd, right?  So when you look more carefully at it,  it's not so clear at all.  When we talk about our universe, first of all,  we don't mean all of space.  We actually mean, I don't know,  you can throw me the universe if you want,  it's behind you there.  It's, we simply mean the spherical region of space  from which light has a time to reach us so far  during the 14.8 billion year,  13.8 billion years since our Big Bang.  There's more space here but this is what we call a universe  because that's all we have access to.  So is there intelligent life here  that's gotten to the point of building telescopes  and computers?\n"
     ]
    }
   ],
   "source": [
    "segmenter = SemanticTextSegmentation(df, 'caption')\n",
    "segments = segmenter.get_segments(threshold=0.7)\n",
    "print('\\n\\n<-- Topic Change -->\\n\\n'.join(segments[:5]))"
   ],
   "metadata": {
    "collapsed": false
   }
  },
  {
   "cell_type": "code",
   "execution_count": null,
   "outputs": [],
   "source": [],
   "metadata": {
    "collapsed": false
   }
  }
 ],
 "metadata": {
  "kernelspec": {
   "display_name": "Python 3",
   "language": "python",
   "name": "python3"
  },
  "language_info": {
   "codemirror_mode": {
    "name": "ipython",
    "version": 2
   },
   "file_extension": ".py",
   "mimetype": "text/x-python",
   "name": "python",
   "nbconvert_exporter": "python",
   "pygments_lexer": "ipython2",
   "version": "2.7.6"
  }
 },
 "nbformat": 4,
 "nbformat_minor": 0
}
