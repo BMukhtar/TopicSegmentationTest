{
 "cells": [
  {
   "cell_type": "code",
   "execution_count": 1,
   "outputs": [
    {
     "name": "stderr",
     "output_type": "stream",
     "text": [
      "Some weights of the model checkpoint at bert-base-uncased were not used when initializing BertModel: ['cls.seq_relationship.bias', 'cls.predictions.decoder.weight', 'cls.predictions.transform.LayerNorm.bias', 'cls.predictions.transform.dense.weight', 'cls.predictions.transform.LayerNorm.weight', 'cls.seq_relationship.weight', 'cls.predictions.bias', 'cls.predictions.transform.dense.bias']\n",
      "- This IS expected if you are initializing BertModel from the checkpoint of a model trained on another task or with another architecture (e.g. initializing a BertForSequenceClassification model from a BertForPreTraining model).\n",
      "- This IS NOT expected if you are initializing BertModel from the checkpoint of a model that you expect to be exactly identical (initializing a BertForSequenceClassification model from a BertForSequenceClassification model).\n"
     ]
    }
   ],
   "source": [
    "\"\"\"\n",
    "Load the pre-trained BERT model and tokenizer using a library such as Hugging Face's Transformers.\n",
    "\"\"\"\n",
    "import torch\n",
    "from transformers import AutoTokenizer, AutoModel\n",
    "\n",
    "\n",
    "tokenizer = AutoTokenizer.from_pretrained(\"bert-base-uncased\")\n",
    "model = AutoModel.from_pretrained(\"bert-base-uncased\")"
   ],
   "metadata": {
    "collapsed": false
   }
  },
  {
   "cell_type": "code",
   "execution_count": 2,
   "outputs": [
    {
     "data": {
      "text/plain": "['Chairman Wormsley: Each of you has received the agenda.',\n 'I will entertain a motion that the agenda be approved.',\n 'Commissioner Brown: So moved.',\n 'Commissioner Hobbs: Seconded\\n\\nChairman Wormsley: It has been moved and seconded that the agenda be approved as received by the members.',\n 'All those in favor signify by saying \"Aye\"?...Opposed by saying \"No\"?...The agenda is approved.',\n 'You have received a copy of the minutes of the last meeting.',\n 'Are there any corrections or additions to the meeting?',\n 'Commissioner McCroskey: Mister Chairman, my name has been omitted from the Special Committee on Indigent Care.',\n 'Chairman Wormsley: Thank you.',\n 'If there are no objections, the minutes will be corrected to include the name of Commissioner McCroskey.',\n 'Will the clerk please make this correction.',\n 'Any further corrections?',\n 'Seeing none, without objection the minutes will stand approved as read.',\n '(This is sort of a short cut way that is commonly used for approval of minutes and/or the agenda rather than requiring a motion and second.)',\n 'Chairman Wormsley: Commissioner Adkins, the first item on the agenda is yours.',\n \"Commissioner Adkins: Mister Chairman, I would like to make a motion to approve the resolution taking money from the Data Processing Reserve Account in the County Clerk's office and moving it to the equipment line to purchase a laptop computer.\",\n 'Commissioner Carmical: I second the motion.',\n 'Chairman Wormsley: This resolution has a motion and second.',\n 'Will the clerk please take the vote.',\n 'Chairman Wormsley: The resolution passes.',\n 'We will now take up old business.',\n 'At our last meeting, Commissioner McKee, your motion to sell property near the airport was deferred to this meeting.',\n 'You are recognized.',\n 'Commissioner McKee: I move to withdraw that motion.',\n 'Chairman Wormsley: Commissioner McKee has moved to withdraw his motion to sell property near the airport.',\n 'Seeing no objection, this motion is withdrawn.',\n \"The next item on the agenda is Commissioner Rodgers'.\",\n 'Commissioner Rodgers: I move adopton of the resolution previously provided to each of you to increase the state match local litigation tax in circuit, chancery, and criminal courts to the maximum amounts permissible.',\n 'This resolution calls for the increases to go to the general fund.',\n 'Chairman Wormsley: Commissioner Duckett\\n\\nCommissioner Duckett: The sheriff is opposed to this increase.',\n 'Chairman Wormsley: Commissioner, you are out of order because this motion has not been seconded as needed before the floor is open for discussion or debate.',\n 'Discussion will begin after we have a second.',\n 'Is there a second?',\n 'Commissioner Reinhart: For purposes of discussion, I second the motion.',\n 'Chairman Wormsley: Commissioner Rodgers is recognized.',\n \"Commissioner Rodgers: (Speaks about the data on collections, handing out all sorts of numerical figures regarding the litigation tax, and the county's need for additional revenue.)\",\n \"Chairman Wormsley: Commissioner Duckett\\n\\nCommissioner Duckett: I move an amendment to the motion to require 25 percent of the proceeds from the increase in the tax on criminal cases go to fund the sheriff's department.\",\n 'Chairman Wormsley: Commissioner Malone\\n\\nCommissioner Malone: I second the amendment.',\n \"Chairman Wormsley: A motion has been made and seconded to amend the motion to increase the state match local litigation taxes to the maximum amounts to require 25 percent of the proceeds from the increase in the tax on criminal cases in courts of record going to fund the sheriff's department.\",\n 'Any discussion?',\n 'Will all those in favor please raise your hand?',\n 'All those opposed please raise your hand.',\n 'The amendment carries 17-2.',\n 'We are now on the motion as amended.',\n 'Any further discussion?',\n 'Commissioner Headrick: Does this require a two-thirds vote?',\n 'Chairman Wormsley: Will the county attorney answer that question?',\n 'County Attorney Fults: Since these are only courts of record, a majority vote will pass it.',\n 'The two-thirds requirement is for the general sessions taxes.',\n 'Chairman Wormsley: Other questions or discussion?',\n 'Commissioner Adams.',\n 'Commissioner Adams: Move for a roll call vote.',\n \"Commissioner Crenshaw: Second\\n\\nChairman Wormsley: The motion has been made and seconded that the state match local litigation taxes be increased to the maximum amounts allowed by law with 25 percent of the proceeds from the increase in the tax on criminal cases in courts of record going to fund the sheriff's department.\",\n 'Will all those in favor please vote as the clerk calls your name, those in favor vote \"aye,\" those against vote \"no.\"',\n 'Nine votes for, nine votes against, one not voting.',\n 'The increase fails.',\n 'We are now on new business.',\n 'Commissioner Adkins, the first item on the agenda is yours.',\n 'Commissioner Adkins: Each of you has previously received a copy of a resolution to increase the wheel tax by $10 to make up the state cut in education funding.',\n 'I move adoption of this resolution.',\n 'Chairman Wormsley: Commissioner Thompson\\n\\nCommissioner Thompson: I second.',\n 'Chairman Wormsley: It has been properly moved and seconded that a resolution increasing the wheel tax by $10 to make up the state cut in education funding be passed.',\n 'Any discussion?',\n '(At this point numerous county commissioners speak for and against increasing the wheel tax and making up the education cuts.',\n 'This is the first time this resolution is under consideration.)',\n 'Commissioner Hayes is recognized.',\n 'Commissioner Hayes: I move previous question.',\n 'Commisioner Crenshaw: Second.',\n 'Chairman Wormsley: Previous question has been moved and seconded.',\n 'As you know, a motion for previous question, if passed by a two-thirds vote, will cut off further debate and require us to vote yes or no on the resolution before us.',\n 'You should vote for this motion if you wish to cut off further debate of the wheel tax increase at this point.',\n 'Will all those in favor of previous question please raise your hand?',\n 'Will all those against please raise your hand?',\n 'The vote is 17-2.',\n 'Previous question passes.',\n 'We are now on the motion to increase the wheel tax by $10 to make up the state cut in education funding.',\n 'Will all those in favor please raise your hand?',\n 'Will all those against please raise your hand?',\n 'The vote is 17-2.',\n 'This increase passes on first passage.',\n 'Is there any other new business?',\n 'Since no member is seeking recognition, are there announcements?',\n 'Commissioner Hailey.',\n 'Commissioner Hailey: There will be a meeting of the Budget Committee to look at solid waste funding recommendations on Tuesday, July 16 at noon here in this room.',\n 'Chairman Wormsley: Any other announcements?',\n 'The next meeting of this body will be Monday, August 19 at 7 p.m., here in this room.',\n 'Commissioner Carmical.',\n 'Commissioner Carmical: There will be a chili supper at County Elementary School on August 16 at 6:30 p.m. Everyone is invited.',\n 'Chairman Wormsley: Commissioner Austin.',\n 'Commissioner Austin: Move adjournment.',\n 'Commissioner Garland: Second.']"
     },
     "execution_count": 2,
     "metadata": {},
     "output_type": "execute_result"
    }
   ],
   "source": [
    "\"\"\"\n",
    "Load the text data and split it into sentences using a library such as NLTK.\n",
    "\"\"\"\n",
    "import nltk\n",
    "\n",
    "with open(\"data/simple_text.txt\", \"r\") as f:\n",
    "    transcript = f.read()\n",
    "\n",
    "sentences = nltk.sent_tokenize(transcript)\n",
    "sentences"
   ],
   "metadata": {
    "collapsed": false
   }
  },
  {
   "cell_type": "code",
   "execution_count": 3,
   "outputs": [],
   "source": [
    "\"\"\"\n",
    "Generate BERT embeddings for each sentence by passing them through the pre-trained BERT model.\n",
    "\"\"\"\n",
    "embeddings = []\n",
    "for sentence in sentences:\n",
    "    input_ids = torch.tensor(tokenizer.encode(sentence, add_special_tokens=True)).unsqueeze(0)\n",
    "    outputs = model(input_ids)\n",
    "    last_hidden_states = outputs.last_hidden_state\n",
    "    embeddings.append(last_hidden_states.mean(dim=1).squeeze().detach().numpy())"
   ],
   "metadata": {
    "collapsed": false
   }
  },
  {
   "cell_type": "code",
   "execution_count": 4,
   "outputs": [
    {
     "data": {
      "text/plain": "91"
     },
     "execution_count": 4,
     "metadata": {},
     "output_type": "execute_result"
    }
   ],
   "source": [
    "len(embeddings)"
   ],
   "metadata": {
    "collapsed": false
   }
  },
  {
   "cell_type": "code",
   "execution_count": 5,
   "outputs": [
    {
     "data": {
      "text/plain": "768"
     },
     "execution_count": 5,
     "metadata": {},
     "output_type": "execute_result"
    }
   ],
   "source": [
    "len(embeddings[0])"
   ],
   "metadata": {
    "collapsed": false
   }
  },
  {
   "cell_type": "code",
   "execution_count": 6,
   "outputs": [
    {
     "name": "stderr",
     "output_type": "stream",
     "text": [
      "/Users/akvelon/opt/anaconda3/envs/TopicSegmentation/lib/python3.10/site-packages/sklearn/cluster/_agglomerative.py:983: FutureWarning: Attribute `affinity` was deprecated in version 1.2 and will be removed in 1.4. Use `metric` instead\n",
      "  warnings.warn(\n"
     ]
    }
   ],
   "source": [
    "\"\"\"\n",
    "Use a clustering algorithm, to group the sentences into clusters based on their embeddings.\n",
    "\"\"\"\n",
    "from sklearn.cluster import AgglomerativeClustering\n",
    "\n",
    "clusterer = AgglomerativeClustering(n_clusters=5, affinity='cosine', linkage='average')\n",
    "clusters = clusterer.fit_predict(embeddings)\n"
   ],
   "metadata": {
    "collapsed": false
   }
  },
  {
   "cell_type": "code",
   "execution_count": 14,
   "outputs": [
    {
     "name": "stdout",
     "output_type": "stream",
     "text": [
      "Chairman Wormsley: Each of you has received the agenda. I will entertain a motion that the agenda be approved.\n",
      "\n",
      "<-- Topic Change -->\n",
      "\n",
      "Commissioner Brown: So moved. Commissioner Hobbs: Seconded\n",
      "\n",
      "Chairman Wormsley: It has been moved and seconded that the agenda be approved as received by the members.\n",
      "\n",
      "<-- Topic Change -->\n",
      "\n",
      "All those in favor signify by saying \"Aye\"?...Opposed by saying \"No\"?...The agenda is approved. You have received a copy of the minutes of the last meeting. Are there any corrections or additions to the meeting? Commissioner McCroskey: Mister Chairman, my name has been omitted from the Special Committee on Indigent Care.\n",
      "\n",
      "<-- Topic Change -->\n",
      "\n",
      "Chairman Wormsley: Thank you.\n",
      "\n",
      "<-- Topic Change -->\n",
      "\n",
      "If there are no objections, the minutes will be corrected to include the name of Commissioner McCroskey.\n"
     ]
    }
   ],
   "source": [
    "\"\"\"\n",
    "Apply heuristics to merge or split the clusters into coherent and meaningful topical segments.\n",
    "\"\"\"\n",
    "segments = []\n",
    "prev_cluster = clusters[0]\n",
    "prev_idx = 0\n",
    "segment_ids = []\n",
    "\n",
    "for i in range(1, len(clusters)):\n",
    "    if clusters[i] != prev_cluster:\n",
    "        segments.append(\" \".join(sentences[prev_idx:i]))\n",
    "        segment_ids.append((prev_idx, i))\n",
    "        prev_cluster = clusters[i]\n",
    "        prev_idx = i\n",
    "\n",
    "segments.append(\" \".join(sentences[prev_idx:]))\n",
    "segment_ids.append((prev_idx, len(sentences)))\n",
    "\n",
    "print('\\n\\n<-- Topic Change -->\\n\\n'.join(segments[:5]))"
   ],
   "metadata": {
    "collapsed": false
   }
  },
  {
   "cell_type": "code",
   "execution_count": 8,
   "outputs": [
    {
     "name": "stdout",
     "output_type": "stream",
     "text": [
      "Topic 1: Commissioner Adams: Move for a roll call vote.\n",
      "Topic 2: Nine votes for, nine votes against, one not voting.\n",
      "Topic 3: Commissioner Carmical.\n",
      "Topic 4: Chairman Wormsley: Each of you has received the agenda.\n",
      "Topic 5: Chairman Wormsley: Thank you.\n",
      "Topic 6: You should vote for this motion if you wish to cut off further debate of the wheel tax increase at this point.\n",
      "Topic 7: Chairman Wormsley: This resolution has a motion and second.\n",
      "Topic 8: Commissioner Carmical: I second the motion.\n",
      "Topic 9: The increase fails.\n",
      "Topic 10: Will the clerk please take the vote.\n",
      "Topic 11: Commissioner Hailey.\n",
      "Topic 12: Chairman Wormsley: Commissioner Thompson\n",
      "\n",
      "Commissioner Thompson: I second.\n",
      "Topic 13: Commissioner McCroskey: Mister Chairman, my name has been omitted from the Special Committee on Indigent Care.\n",
      "Topic 14: Commissioner Carmical: There will be a chili supper at County Elementary School on August 16 at 6:30 p.m. Everyone is invited.\n",
      "Topic 15: Since no member is seeking recognition, are there announcements?\n",
      "Topic 16: If there are no objections, the minutes will be corrected to include the name of Commissioner McCroskey.\n",
      "Topic 17: Commissioner Reinhart: For purposes of discussion, I second the motion.\n",
      "Topic 18: Commissioner Hobbs: Seconded\n",
      "\n",
      "Chairman Wormsley: It has been moved and seconded that the agenda be approved as received by the members.\n",
      "Topic 19: Will the clerk please make this correction.\n",
      "Topic 20: Previous question passes.\n",
      "Topic 21: Chairman Wormsley: Previous question has been moved and seconded.\n",
      "Topic 22: Chairman Wormsley: The resolution passes.\n",
      "Topic 23: Chairman Wormsley: Commissioner Malone\n",
      "\n",
      "Commissioner Malone: I second the amendment.\n",
      "Topic 24: This increase passes on first passage.\n",
      "Topic 25: The amendment carries 17-2.\n",
      "Topic 26: Commissioner Adkins, the first item on the agenda is yours.\n",
      "Topic 27: Chairman Wormsley: Commissioner Duckett\n",
      "\n",
      "Commissioner Duckett: I move an amendment to the motion to require 25 percent of the proceeds from the increase in the tax on criminal cases go to fund the sheriff's department.\n",
      "Topic 28: Will all those in favor please raise your hand?\n",
      "Topic 29: Chairman Wormsley: Will the county attorney answer that question?\n",
      "Topic 30: (At this point numerous county commissioners speak for and against increasing the wheel tax and making up the education cuts.\n",
      "Topic 31: Chairman Wormsley: Commissioner Rodgers is recognized.\n",
      "Topic 32: Will all those against please raise your hand?\n",
      "Topic 33: Commissioner Hailey: There will be a meeting of the Budget Committee to look at solid waste funding recommendations on Tuesday, July 16 at noon here in this room.\n",
      "Topic 34: Chairman Wormsley: Commissioner Austin.\n"
     ]
    }
   ],
   "source": [
    "from scipy.spatial.distance import cdist\n",
    "import numpy as np\n",
    "\n",
    "# Calculate the centroid sentence for each cluster\n",
    "centroid_sentences = []\n",
    "for start, end in set(segment_ids):\n",
    "    sentences_in_cluster = sentences[start: end]\n",
    "    sentence_embeddings = np.array(embeddings[start: end])\n",
    "    centroid_idx = cdist([s for s in sentence_embeddings], [sentence_embeddings.mean(axis=0)], 'euclidean').argmin()\n",
    "    centroid_sentences.append(sentences_in_cluster[centroid_idx])\n",
    "\n",
    "# Print the topic and its corresponding headline or summary\n",
    "for i, centroid_sentence in enumerate(centroid_sentences):\n",
    "    print(f\"Topic {i+1}: {centroid_sentence}\")"
   ],
   "metadata": {
    "collapsed": false
   }
  }
 ],
 "metadata": {
  "kernelspec": {
   "display_name": "Python 3",
   "language": "python",
   "name": "python3"
  },
  "language_info": {
   "codemirror_mode": {
    "name": "ipython",
    "version": 2
   },
   "file_extension": ".py",
   "mimetype": "text/x-python",
   "name": "python",
   "nbconvert_exporter": "python",
   "pygments_lexer": "ipython2",
   "version": "2.7.6"
  }
 },
 "nbformat": 4,
 "nbformat_minor": 0
}
