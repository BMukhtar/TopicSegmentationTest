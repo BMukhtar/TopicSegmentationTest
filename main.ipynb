{
 "cells": [
  {
   "cell_type": "code",
   "execution_count": 1,
   "outputs": [
    {
     "data": {
      "text/plain": "Downloading (…)okenizer_config.json:   0%|          | 0.00/28.0 [00:00<?, ?B/s]",
      "application/vnd.jupyter.widget-view+json": {
       "version_major": 2,
       "version_minor": 0,
       "model_id": "1e1695b187d5440fadda05655aa87e8c"
      }
     },
     "metadata": {},
     "output_type": "display_data"
    },
    {
     "data": {
      "text/plain": "Downloading (…)lve/main/config.json:   0%|          | 0.00/570 [00:00<?, ?B/s]",
      "application/vnd.jupyter.widget-view+json": {
       "version_major": 2,
       "version_minor": 0,
       "model_id": "c6cedc2c554143cf97af67b8b1da8917"
      }
     },
     "metadata": {},
     "output_type": "display_data"
    },
    {
     "data": {
      "text/plain": "Downloading (…)solve/main/vocab.txt:   0%|          | 0.00/232k [00:00<?, ?B/s]",
      "application/vnd.jupyter.widget-view+json": {
       "version_major": 2,
       "version_minor": 0,
       "model_id": "7f3f23a7025749eba0c99fa5b435055c"
      }
     },
     "metadata": {},
     "output_type": "display_data"
    },
    {
     "data": {
      "text/plain": "Downloading (…)/main/tokenizer.json:   0%|          | 0.00/466k [00:00<?, ?B/s]",
      "application/vnd.jupyter.widget-view+json": {
       "version_major": 2,
       "version_minor": 0,
       "model_id": "747d4839c81649b4ab4e1744ef5cda43"
      }
     },
     "metadata": {},
     "output_type": "display_data"
    },
    {
     "data": {
      "text/plain": "Downloading (…)\"pytorch_model.bin\";:   0%|          | 0.00/440M [00:00<?, ?B/s]",
      "application/vnd.jupyter.widget-view+json": {
       "version_major": 2,
       "version_minor": 0,
       "model_id": "50afe3bd89c74141a9b001818d78686b"
      }
     },
     "metadata": {},
     "output_type": "display_data"
    },
    {
     "name": "stderr",
     "output_type": "stream",
     "text": [
      "Some weights of the model checkpoint at bert-base-uncased were not used when initializing BertModel: ['cls.predictions.transform.LayerNorm.bias', 'cls.predictions.transform.dense.weight', 'cls.seq_relationship.bias', 'cls.seq_relationship.weight', 'cls.predictions.bias', 'cls.predictions.transform.dense.bias', 'cls.predictions.decoder.weight', 'cls.predictions.transform.LayerNorm.weight']\n",
      "- This IS expected if you are initializing BertModel from the checkpoint of a model trained on another task or with another architecture (e.g. initializing a BertForSequenceClassification model from a BertForPreTraining model).\n",
      "- This IS NOT expected if you are initializing BertModel from the checkpoint of a model that you expect to be exactly identical (initializing a BertForSequenceClassification model from a BertForSequenceClassification model).\n"
     ]
    }
   ],
   "source": [
    "\"\"\"\n",
    "Load the pre-trained BERT model and tokenizer using a library such as Hugging Face's Transformers.\n",
    "\"\"\"\n",
    "import torch\n",
    "from transformers import AutoTokenizer, AutoModel\n",
    "\n",
    "\n",
    "\n",
    "tokenizer = AutoTokenizer.from_pretrained(\"bert-base-uncased\")\n",
    "model = AutoModel.from_pretrained(\"bert-base-uncased\")\n"
   ],
   "metadata": {
    "collapsed": false
   }
  },
  {
   "cell_type": "code",
   "execution_count": 22,
   "outputs": [
    {
     "data": {
      "text/plain": "['A Stop on the Salt Route\\n1000 B.C.',\n 'As they rounded a bend in the path that ran beside the river, Lara recognized the silhouette of a fig tree atop a nearby hill.',\n 'The weather was hot and the days were long.',\n 'The fig tree was in full leaf, but not yet bearing fruit.',\n 'Soon Lara spotted other landmarks—an outcropping of limestone beside the path that had a silhouette like a man’s face, a marshy spot beside the river where the waterfowl were easily startled, a tall tree that looked like a man with his arms upraised.',\n 'They were drawing near to the place where there was an island in the river.',\n 'The island was a good spot to make camp.',\n 'They would sleep on the island tonight.',\n 'Lara had been back and forth along the river path many times in her short life.',\n 'Her people had not created the path—it had always been there, like the river—but their deerskin-shod feet and the wooden wheels of their handcarts kept the path well worn.',\n 'Lara’s people were salt traders, and their livelihood took them on a continual journey.',\n 'At the mouth of the river, the little group of half a dozen intermingled families gathered salt from the great salt beds beside the sea.',\n 'They groomed and sifted the salt and loaded it into handcarts.',\n 'When the carts were full, most of the group would stay behind, taking shelter amid rocks and simple lean-tos, while a band of fifteen or so of the heartier members set out on the path that ran alongside the river.',\n 'With their precious cargo of salt, the travelers crossed the coastal lowlands and traveled toward the mountains.',\n 'But Lara’s people never reached the mountaintops; they traveled only as far as the foothills.',\n 'Many people lived in the forests and grassy meadows of the foothills, gathered in small villages.',\n 'In return for salt, these people would give Lara’s people dried meat, animal skins, cloth spun from wool, clay pots, needles and scraping tools carved from bone, and little toys made of wood.',\n 'Their bartering done, Lara and her people would travel back down the river path to the sea.',\n 'The cycle would begin again.',\n 'It had always been like this.',\n 'Lara knew no other life.',\n 'She traveled back and forth, up and down the river path.',\n 'No single place was home.',\n 'She liked the seaside, where there was always fish to eat, and the gentle lapping of the waves lulled her to sleep at night.',\n 'She was less fond of the foothills, where the path grew steep, the nights could be cold, and views of great distances made her dizzy.',\n 'She felt uneasy in the villages, and was often shy around strangers.',\n 'The path itself was where she felt most at home.',\n 'She loved the smell of the river on a hot day, and the croaking of frogs at night.',\n 'Vines grew amid the lush foliage along the river, with berries that were good to eat.',\n 'Even on the hottest day, sundown brought a cool breeze off the water, which sighed and sang amid the reeds and tall grasses.',\n 'Of all the places along the path, the area they were approaching, with the island in the river, was Lara’s favorite.',\n 'The terrain along this stretch of the river was mostly flat, but in the immediate vicinity of the island, the land on the sunrise side was like a rumpled cloth, with hills and ridges and valleys.',\n 'Among Lara’s people, there was a wooden baby’s crib, suitable for strapping to a cart, that had been passed down for generations.',\n 'The island was shaped like that crib, longer than it was wide and pointed at the upriver end, where the flow had eroded both banks.',\n 'The island was like a crib, and the group of hills on the sunrise side of the river were like old women mantled in heavy cloaks gathered to have a look at the baby in the crib—that was how Lara’s father had once described the lay of the land.',\n 'Larth spoke like that all the time, conjuring images of giants and monsters in the landscape.',\n 'He could perceive the spirits, called numina, that dwelled in rocks and trees.',\n 'Sometimes he could speak to them and hear what they had to say.',\n 'The river was his oldest friend and told him where the fishing would be best.',\n 'From whispers in the wind he could foretell the next day’s weather.',\n 'Because of such skills, Larth was the leader of the group.',\n '“We’re close to the island, aren’t we, Papa?” said Lara.',\n '“How did you know?”\\n“The hills.',\n 'First we start to see the hills, off to the right.',\n 'The hills grow bigger.',\n 'And just before we come to the island, we can see the silhouette of that fig tree up there, along the crest of that hill.”\\n“Good girl!” said Larth, proud of his daughter’s memory and powers of observation.',\n 'He was a strong, handsome man with flecks of gray in his black beard.',\n 'His wife had borne several children, but all had died very young except Lara, the last, whom his wife had died bearing.',\n 'Lara was very precious to him.',\n 'Like her mother, she had golden hair.',\n 'Now that she had reached the age of childbearing, Lara was beginning to display the fullness of a woman’s hips and breasts.',\n 'It was Larth’s greatest wish that he might live to see his own grandchildren.',\n 'Not every man lived that long, but Larth was hopeful.',\n 'He had been healthy all his life, partly, he believed, because he had always been careful to show respect to the numina he encountered on his journeys.',\n 'Respecting the numina was important.',\n 'The numen of the river could suck a man under and drown him.',\n 'The numen of a tree could trip a man with its roots, or drop a rotten branch on his head.',\n 'Rocks could give way underfoot, chuckling with amusement at their own treachery.',\n 'Even the sky, with a roar of fury, sometimes sent down fingers of fire that could roast a man like a rabbit on a spit, or worse, leave him alive but robbed of his senses.',\n 'Larth had heard that the earth itself could open and swallow a man; though he had never actually seen such a thing, he nevertheless performed a ritual each morning, asking the earth’s permission before he went striding across it.',\n '“There’s something so special about this place,” said Lara, gazing at the sparkling river to her left and then at the rocky, tree-spotted hills ahead and to her right.',\n '“How was it made?',\n 'Who made it?”\\nLarth frowned.',\n 'The question made no sense to him.',\n 'A place was never made, it simply was.',\n 'Small features might change over time.',\n 'Uprooted by a storm, a tree might fall into the river.',\n 'A boulder might decide to tumble down the hillside.',\n 'The numina that animated all things went about reshaping the landscape from day to day, but the essential things never changed, and had always existed: the river, the hills, the sky, the sun, the sea, the salt beds at the mouth of the river.',\n 'He was trying to think of some way to express these thoughts to Lara, when a deer, drinking at the river, was startled by their approach.',\n 'The deer bolted up the brushy bank and onto the path.',\n 'Instead of running to safety, the creature stood and stared at them.',\n 'As clearly as if the animal had whispered aloud, Larth heard the words “Eat me.” The deer was offering herself.',\n 'Larth turned to shout an order, but the most skilled hunter of the group, a youth called Po, was already in motion.',\n 'Po ran forward, raised the sharpened stick he always carried and hurled it whistling through the air between Larth and Lara.',\n 'A heartbeat later, the spear struck the deer’s breast with such force that the creature was knocked to the ground.',\n 'Unable to rise, she thrashed her neck and flailed her long, slender legs.',\n 'Po ran past Larth and Lara.',\n 'When he reached the deer, he pulled the spear free and stabbed the creature again.',\n 'The deer released a stifled noise, like a gasp, and stopped moving.',\n 'There was a cheer from the group.',\n 'Instead of yet another dinner of fish from the river, tonight there would be venison.',\n 'The distance from the riverbank to the island was not great, but at this time of year—early summer—the river was too high to wade across.',\n 'Lara’s people had long ago made simple rafts of branches lashed together with leather thongs, which they left on the riverbanks, repairing and replacing them as needed.',\n 'When they last passed this way, there had been three rafts, all in good condition, left on the east bank.',\n 'Two of the rafts were still there, but one was missing.',\n '“I see it!',\n 'There—pulled up on the bank of the island, almost hidden among those leaves,” said Po, whose eyes were sharp.',\n '“Someone must have used it to cross over.”\\n“Perhaps they’re still on the island,” said Larth.',\n 'He did not begrudge others the use of the rafts, and the island was large enough to share.',\n 'Nonetheless, the situation required caution.',\n 'He cupped his hands to his mouth and gave a shout.',\n 'It was not long before a man appeared on the bank of the island.',\n 'The man waved.',\n '“Do we know him?” said Larth, squinting.',\n '“I don’t think so,” said Po.',\n '“He’s young—my age or younger, I’d say.',\n 'He looks strong.”\\n“Very strong!” said Lara.',\n 'Even from this distance, the young stranger’s brawniness was impressive.',\n 'He wore a short tunic without sleeves, and Lara had never seen such arms on a man.',\n 'Po, who was small and wiry, looked at Lara sidelong and frowned.',\n '“I’m not sure I like the look of this stranger.”\\n“Why not?” said Lara.',\n '“He’s smiling at us.”\\nIn fact, the young man was smiling at Lara, and Lara alone.',\n 'His name was Tarketios.',\n 'Much more than that, Larth could not tell, for the stranger spoke a language which Larth did not recognize, in which each word seemed as long and convoluted as the man’s name.',\n 'Understanding the deer had been easier than understanding the strange noises uttered by this man and his two companions!',\n 'Even so, they seemed friendly, and the three of them presented no threat to the more numerous salt traders.',\n 'Tarketios and his two older companions were skilled metalworkers from a region some two hundred miles to the north, where the hills were rich with iron, copper, and lead.',\n 'They had been on a trading journey to the south and were returning home.',\n 'Just as the river path carried Larth’s people from the seashore to the hills, so another path, perpendicular to the river, traversed the long coastal plain.',\n 'Because the island provided an easy place to ford the river, it was here that the two paths intersected.',\n 'On this occasion, the salt traders and the metal traders happened to arrive at the island on the same day.',\n 'Now they met for the first time.',\n 'The two groups made separate camps at opposite ends of the island.',\n 'As a gesture of friendship, speaking with his hands, Larth invited Tarketios and the others to share the venison that night.',\n 'As the hosts and their guests feasted around the roasting fire, Tarketios tried to explain something of his craft.',\n 'Firelight glittered in Lara’s eyes as she watched Tarketios point at the flames and mime the act of hammering.',\n 'Firelight danced across the flexing muscles of his arms and shoulders.',\n 'When he smiled at her, his grin was like a boast.',\n 'She had never seen teeth so white and so perfect.',\n 'Po saw the looks the two exchanged and frowned.',\n 'Lara’s father saw the same looks and smiled.',\n 'The meal was over.',\n 'The metal traders, after many gestures of gratitude for the venison, withdrew to their camp at the far side of the island.',\n 'Before he disappeared into the shadows, Tarketios looked over his shoulder and gave Lara a parting grin.',\n 'While the others settled down to sleep, Larth stayed awake a while longer, as was his habit.',\n 'He liked to watch the fire.',\n 'Like all other things, fire possessed a numen that sometimes communicated with him, showing him visions.',\n 'As the last of the embers faded into darkness, Larth fell asleep.',\n 'Larth blinked.',\n 'The flames, which had dwindled to almost nothing, suddenly shot up again.',\n 'Hot air rushed over his face.',\n 'His eyes were seared by white flames brighter than the sun.',\n 'Amid the dazzling brightness, he perceived a thing that levitated above the flames.',\n 'It was a masculine member, disembodied but nonetheless rampant and upright.',\n 'It bore wings, like a bird, and hovered in midair.',\n 'Though it seemed to be made of flesh, it was impervious to the flames.',\n 'Larth had seen the winged phallus before, always in such circumstances, when he stared at a fire and entered a dream state.',\n 'He had even given it a name, or more precisely, the thing had planted its name in his mind: Fascinus.',\n 'Fascinus was not like the numina that animated trees, stones, or rivers.',\n 'Those numina existed without names.',\n 'Each was bound to the object in which it resided, and there was little to differentiate one from another.',\n 'When such numina spoke, they could not always be trusted.',\n 'Sometimes they were friendly, but at other times they were mischievous or even hostile.',\n 'Fascinus was different.',\n 'It was unique.',\n 'It existed in and of itself, without beginning or end.',\n 'Clearly, from its form, it had something to do with life and the origin of life, yet it seemed to come from a place beyond this world, slipping for a few moments through a breach opened by the heat of the dancing flames.',\n 'An appearance by Fascinus was always significant.',\n 'The winged phallus never appeared without giving Larth an answer to a dilemma that had been troubling him, or planting an important new thought in his mind.',\n 'The guidance given to him by Fascinus had never led Larth astray.',\n 'Elsewhere, in distant lands—Greece, Israel, Egypt—men and women worshiped gods and goddesses.',\n 'Those people made images of their gods, told stories about them, and worshiped them in temples.',\n 'Larth had never met such people.',\n 'He had never even heard of the lands where they lived, and he had never encountered or conceived of a god.',\n 'The very concept of a deity such as those other men worshiped was unknown to Larth, but the closest thing to a god in his imagination and experience was Fascinus.',\n 'With a start, he blinked again.',\n 'The flames had died.',\n 'In place of intolerable brightness there was only the darkness of a warm summer night lit by the faintest sliver of a moon.',\n 'The air on his face was no longer hot but fresh and cool.',\n 'Fascinus had vanished—but not without planting a thought in Larth’s mind.',\n 'He hurried to the leafy bower beside the river where Lara liked to sleep, thinking to himself, It must be made so, because Fascinus says it must!',\n 'He knelt beside her, but there was no need to wake her.',\n 'She was already awake.',\n '“Papa?',\n 'What is it?”\\n“Go to him!”\\nShe did not need to ask for an explanation.',\n 'It was what she had been yearning to do, lying restless and eager in the dark.',\n '“Are you sure, Papa?”\\n“Fascinus .',\n '. . ,” He did not finish the thought, but she understood.',\n 'She had never seen Fascinus, but he had told her about it.',\n 'Many times in the past, Fascinus had given guidance to her father.',\n 'Now, once again, Fascinus had made its will known.',\n 'The darkness did not deter her.',\n 'She knew every twist and turn of every path on the little island.',\n 'When she came to the metal trader’s camp, she found Tarketios lying in a leafy nook secluded from the others; she recognized him by his brawny silhouette.',\n 'He was awake and waiting, just as she had been lying awake, waiting, when her father came to her.',\n 'At her approach, Tarketios rose onto his elbows.',\n 'He spoke her name in a whisper.',\n 'There was a quiver of something like desperation in his voice; his neediness made her smile.',\n 'She sighed and lowered herself beside him.',\n 'By the faint moonlight, she saw that he wore an amulet of some sort, suspended from a strap of leather around his neck.',\n 'Nestled amid the hair on his chest, the bit of shapeless metal seemed to capture and concentrate the faint moonlight, casting back a radiance brighter than the moon itself.',\n 'His arms—the arms she had so admired earlier—reached out and closed around her in a surprisingly gentle embrace.',\n 'His body was as warm and naked as her own, but much bigger and much harder.',\n 'She wondered if Fascinus was with them in the darkness, for she seemed to feel the beating of wings between their legs as she was entered by the thing that gave origin to life.']"
     },
     "execution_count": 22,
     "metadata": {},
     "output_type": "execute_result"
    }
   ],
   "source": [
    "\"\"\"\n",
    "Load the text data and split it into sentences using a library such as NLTK.\n",
    "\"\"\"\n",
    "import nltk\n",
    "\n",
    "with open(\"text2.txt\", \"r\") as f:\n",
    "    transcript = f.read()\n",
    "\n",
    "sentences = nltk.sent_tokenize(transcript)\n",
    "sentences"
   ],
   "metadata": {
    "collapsed": false
   }
  },
  {
   "cell_type": "code",
   "execution_count": 24,
   "outputs": [],
   "source": [
    "\"\"\"\n",
    "Generate BERT embeddings for each sentence by passing them through the pre-trained BERT model.\n",
    "\"\"\"\n",
    "embeddings = []\n",
    "for sentence in sentences:\n",
    "    input_ids = torch.tensor(tokenizer.encode(sentence, add_special_tokens=True)).unsqueeze(0)\n",
    "    outputs = model(input_ids)\n",
    "    last_hidden_states = outputs.last_hidden_state\n",
    "    embeddings.append(last_hidden_states.mean(dim=1).squeeze().detach().numpy())"
   ],
   "metadata": {
    "collapsed": false
   }
  },
  {
   "cell_type": "code",
   "execution_count": 25,
   "outputs": [
    {
     "data": {
      "text/plain": "186"
     },
     "execution_count": 25,
     "metadata": {},
     "output_type": "execute_result"
    }
   ],
   "source": [
    "len(embeddings)"
   ],
   "metadata": {
    "collapsed": false
   }
  },
  {
   "cell_type": "code",
   "execution_count": 30,
   "outputs": [
    {
     "data": {
      "text/plain": "768"
     },
     "execution_count": 30,
     "metadata": {},
     "output_type": "execute_result"
    }
   ],
   "source": [
    "len(embeddings[0])"
   ],
   "metadata": {
    "collapsed": false
   }
  },
  {
   "cell_type": "code",
   "execution_count": 26,
   "outputs": [
    {
     "name": "stderr",
     "output_type": "stream",
     "text": [
      "/Users/akvelon/opt/anaconda3/envs/TopicSegmentation/lib/python3.10/site-packages/sklearn/cluster/_agglomerative.py:983: FutureWarning: Attribute `affinity` was deprecated in version 1.2 and will be removed in 1.4. Use `metric` instead\n",
      "  warnings.warn(\n"
     ]
    }
   ],
   "source": [
    "\"\"\"\n",
    "Use a clustering algorithm, such as hierarchical clustering or k-means, to group the sentences into clusters based on their embeddings.\n",
    "\"\"\"\n",
    "from sklearn.cluster import AgglomerativeClustering\n",
    "\n",
    "clusterer = AgglomerativeClustering(n_clusters=5, affinity='cosine', linkage='average')\n",
    "clusters = clusterer.fit_predict(embeddings)\n"
   ],
   "metadata": {
    "collapsed": false
   }
  },
  {
   "cell_type": "code",
   "execution_count": 33,
   "outputs": [
    {
     "data": {
      "text/plain": "186"
     },
     "execution_count": 33,
     "metadata": {},
     "output_type": "execute_result"
    }
   ],
   "source": [
    "len(clusters)"
   ],
   "metadata": {
    "collapsed": false
   }
  },
  {
   "cell_type": "code",
   "execution_count": 35,
   "outputs": [],
   "source": [
    "\"\"\"\n",
    "Apply heuristics to merge or split the clusters into coherent and meaningful topical segments.\n",
    "\"\"\"\n",
    "segments = []\n",
    "prev_cluster = clusters[0]\n",
    "prev_idx = 0\n",
    "segment_ids = []\n",
    "\n",
    "for i in range(1, len(clusters)):\n",
    "    if clusters[i] != prev_cluster:\n",
    "        segments.append(\" \".join(sentences[prev_idx:i]))\n",
    "        segment_ids.append((prev_idx, i))\n",
    "        prev_cluster = clusters[i]\n",
    "        prev_idx = i\n",
    "\n",
    "segments.append(\" \".join(sentences[prev_idx:]))\n",
    "segment_ids.append((prev_idx, len(sentences)))\n"
   ],
   "metadata": {
    "collapsed": false
   }
  },
  {
   "cell_type": "code",
   "execution_count": 36,
   "outputs": [
    {
     "data": {
      "text/plain": "22"
     },
     "execution_count": 36,
     "metadata": {},
     "output_type": "execute_result"
    }
   ],
   "source": [
    "len(segments)"
   ],
   "metadata": {
    "collapsed": false
   }
  },
  {
   "cell_type": "code",
   "execution_count": 40,
   "outputs": [
    {
     "name": "stdout",
     "output_type": "stream",
     "text": [
      "Topic 1: There was a cheer from the group.\n",
      "Topic 2: When they last passed this way, there had been three rafts, all in good condition, left on the east bank.\n",
      "Topic 3: The island was like a crib, and the group of hills on the sunrise side of the river were like old women mantled in heavy cloaks gathered to have a look at the baby in the crib—that was how Lara’s father had once described the lay of the land.\n",
      "Topic 4: The deer released a stifled noise, like a gasp, and stopped moving.\n",
      "Topic 5: When she came to the metal trader’s camp, she found Tarketios lying in a leafy nook secluded from the others; she recognized him by his brawny silhouette.\n",
      "Topic 6: “Papa?\n",
      "Topic 7: “I see it!\n",
      "Topic 8: Po ran past Larth and Lara.\n",
      "Topic 9: A Stop on the Salt Route\n",
      "1000 B.C.\n",
      "Topic 10: And just before we come to the island, we can see the silhouette of that fig tree up there, along the crest of that hill.”\n",
      "“Good girl!” said Larth, proud of his daughter’s memory and powers of observation.\n",
      "Topic 11: He cupped his hands to his mouth and gave a shout.\n",
      "Topic 12: It was not long before a man appeared on the bank of the island.\n",
      "Topic 13: With a start, he blinked again.\n",
      "Topic 14: “Someone must have used it to cross over.”\n",
      "“Perhaps they’re still on the island,” said Larth.\n",
      "Topic 15: Larth had seen the winged phallus before, always in such circumstances, when he stared at a fire and entered a dream state.\n",
      "Topic 16: As clearly as if the animal had whispered aloud, Larth heard the words “Eat me.” The deer was offering herself.\n",
      "Topic 17: “How did you know?”\n",
      "“The hills.\n",
      "Topic 18: Larth blinked.\n",
      "Topic 19: “How was it made?\n",
      "Topic 20: The man waved.\n",
      "Topic 21: He knelt beside her, but there was no need to wake her.\n",
      "Topic 22: The metal traders, after many gestures of gratitude for the venison, withdrew to their camp at the far side of the island.\n"
     ]
    }
   ],
   "source": [
    "from scipy.spatial.distance import cdist\n",
    "import numpy as np\n",
    "\n",
    "# Calculate the centroid sentence for each cluster\n",
    "centroid_sentences = []\n",
    "for start, end in set(segment_ids):\n",
    "    sentences_in_cluster = sentences[start: end]\n",
    "    sentence_embeddings = np.array(embeddings[start: end])\n",
    "    centroid_idx = cdist([s for s in sentence_embeddings], [sentence_embeddings.mean(axis=0)], 'euclidean').argmin()\n",
    "    centroid_sentences.append(sentences_in_cluster[centroid_idx])\n",
    "\n",
    "# Print the topic and its corresponding headline or summary\n",
    "for i, centroid_sentence in enumerate(centroid_sentences):\n",
    "    print(f\"Topic {i+1}: {centroid_sentence}\")"
   ],
   "metadata": {
    "collapsed": false
   }
  },
  {
   "cell_type": "code",
   "execution_count": null,
   "outputs": [],
   "source": [],
   "metadata": {
    "collapsed": false
   }
  }
 ],
 "metadata": {
  "kernelspec": {
   "display_name": "Python 3",
   "language": "python",
   "name": "python3"
  },
  "language_info": {
   "codemirror_mode": {
    "name": "ipython",
    "version": 2
   },
   "file_extension": ".py",
   "mimetype": "text/x-python",
   "name": "python",
   "nbconvert_exporter": "python",
   "pygments_lexer": "ipython2",
   "version": "2.7.6"
  }
 },
 "nbformat": 4,
 "nbformat_minor": 0
}
